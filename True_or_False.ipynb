{
  "nbformat": 4,
  "nbformat_minor": 0,
  "metadata": {
    "colab": {
      "provenance": [],
      "authorship_tag": "ABX9TyOm/MEkxRlDT1wshDk0JXU9",
      "include_colab_link": true
    },
    "kernelspec": {
      "name": "python3",
      "display_name": "Python 3"
    },
    "language_info": {
      "name": "python"
    }
  },
  "cells": [
    {
      "cell_type": "markdown",
      "metadata": {
        "id": "view-in-github",
        "colab_type": "text"
      },
      "source": [
        "<a href=\"https://colab.research.google.com/github/Sweetmonee/JavaScript/blob/main/True_or_False.ipynb\" target=\"_parent\"><img src=\"https://colab.research.google.com/assets/colab-badge.svg\" alt=\"Open In Colab\"/></a>"
      ]
    },
    {
      "cell_type": "code",
      "execution_count": null,
      "metadata": {
        "id": "tyTmzL_kp2VU"
      },
      "outputs": [],
      "source": [
        "function print(person) {\n",
        "  if (person === undefined || person === null) {\n",
        "    console.log('person이 없네요');\n",
        "    return;\n",
        "  }\n",
        "  console.log(person.name);\n",
        "}\n",
        "\n",
        "const person = null;\n",
        "print(person);\n"
      ]
    }
  ]
}
{
  "nbformat": 4,
  "nbformat_minor": 0,
  "metadata": {
    "colab": {
      "provenance": [],
      "authorship_tag": "ABX9TyNq8ShuBTMmksZzjcLDV8G/",
      "include_colab_link": true
    },
    "kernelspec": {
      "name": "python3",
      "display_name": "Python 3"
    },
    "language_info": {
      "name": "python"
    }
  },
  "cells": [
    {
      "cell_type": "markdown",
      "metadata": {
        "id": "view-in-github",
        "colab_type": "text"
      },
      "source": [
        "<a href=\"https://colab.research.google.com/github/Sweetmonee/JavaScript/blob/main/%EB%85%BC%EB%A6%AC_%EC%97%B0%EC%82%B0%EC%9E%90.ipynb\" target=\"_parent\"><img src=\"https://colab.research.google.com/assets/colab-badge.svg\" alt=\"Open In Colab\"/></a>"
      ]
    },
    {
      "cell_type": "code",
      "execution_count": null,
      "metadata": {
        "id": "Ux79CFUPzVjX"
      },
      "outputs": [],
      "source": [
        "const dog = {\n",
        "  name: '멍멍이'\n",
        "};\n",
        "\n",
        "function getName(animal) {\n",
        "  if (animal) {\n",
        "    return animal.name;\n",
        "  }\n",
        "  return undefined;\n",
        "}\n",
        "\n",
        "const name = getName();\n",
        "console.log(name);"
      ]
    },
    {
      "cell_type": "code",
      "source": [
        "const dog = {\n",
        "  name: '멍멍이'\n",
        "};\n",
        "\n",
        "function getName(animal) {\n",
        "  return animal && animal.name;\n",
        "}\n",
        "\n",
        "const name = getName();\n",
        "console.log(name); // undefined\n"
      ],
      "metadata": {
        "id": "ZGC7NJVOzaOz"
      },
      "execution_count": null,
      "outputs": []
    },
    {
      "cell_type": "code",
      "source": [
        "console.log(true && 'hello'); // hello\n",
        "console.log(false && 'hello'); // false\n",
        "console.log('hello' && 'bye'); // bye\n",
        "console.log(null && 'hello'); // null\n",
        "console.log(undefined && 'hello'); // undefined\n",
        "console.log('' && 'hello'); // ''\n",
        "console.log(0 && 'hello'); // 0\n",
        "console.log(1 && 'hello'); // hello\n",
        "console.log(1 && 1); // 1"
      ],
      "metadata": {
        "id": "M8H9xpo6zdwT"
      },
      "execution_count": null,
      "outputs": []
    },
    {
      "cell_type": "code",
      "source": [
        "const namelessDog = {\n",
        "  name: ''\n",
        "};\n",
        "\n",
        "function getName(animal) {\n",
        "  const name = animal && animal.name;\n",
        "  if (!name) {\n",
        "    return '이름이 없는 동물입니다';\n",
        "  }\n",
        "  return name;\n",
        "}\n",
        "\n",
        "const name = getName(namelessDog);\n",
        "console.log(name); // 이름이 없는 동물입니다."
      ],
      "metadata": {
        "id": "fs7GHLTx0Gv-"
      },
      "execution_count": null,
      "outputs": []
    },
    {
      "cell_type": "code",
      "source": [
        "const namelessDog = {\n",
        "  name: ''\n",
        "};\n",
        "\n",
        "function getName(animal) {\n",
        "  const name = animal && animal.name;\n",
        "  return name || '이름이 없는 동물입니다.';\n",
        "}\n",
        "\n",
        "const name = getName(namelessDog);\n",
        "console.log(name); // 이름이 없는 동물입니다."
      ],
      "metadata": {
        "id": "RpIv6iwQ0GzE"
      },
      "execution_count": null,
      "outputs": []
    }
  ]
}
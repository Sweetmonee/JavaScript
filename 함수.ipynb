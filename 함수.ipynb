{
  "nbformat": 4,
  "nbformat_minor": 0,
  "metadata": {
    "colab": {
      "provenance": [],
      "authorship_tag": "ABX9TyMJ0DQGakeXOymCG8GqUUQX",
      "include_colab_link": true
    },
    "kernelspec": {
      "name": "python3",
      "display_name": "Python 3"
    },
    "language_info": {
      "name": "python"
    }
  },
  "cells": [
    {
      "cell_type": "markdown",
      "metadata": {
        "id": "view-in-github",
        "colab_type": "text"
      },
      "source": [
        "<a href=\"https://colab.research.google.com/github/Sweetmonee/JavaScript/blob/main/%08%ED%95%A8%EC%88%98.ipynb\" target=\"_parent\"><img src=\"https://colab.research.google.com/assets/colab-badge.svg\" alt=\"Open In Colab\"/></a>"
      ]
    },
    {
      "cell_type": "code",
      "execution_count": null,
      "metadata": {
        "id": "gv8TWDLxGb2d"
      },
      "outputs": [],
      "source": [
        "function calculateCircleArea(r = 1) {\n",
        "  return Math.PI * r * r;\n",
        "}\n",
        "\n",
        "const area = calculateCircleArea();\n",
        "console.log(area); // 3.141592653589793"
      ]
    }
  ]
}
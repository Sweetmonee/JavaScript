{
  "nbformat": 4,
  "nbformat_minor": 0,
  "metadata": {
    "colab": {
      "provenance": [],
      "authorship_tag": "ABX9TyPfAowgF5M5CqwgmxPEz4mx",
      "include_colab_link": true
    },
    "kernelspec": {
      "name": "python3",
      "display_name": "Python 3"
    },
    "language_info": {
      "name": "python"
    }
  },
  "cells": [
    {
      "cell_type": "markdown",
      "metadata": {
        "id": "view-in-github",
        "colab_type": "text"
      },
      "source": [
        "<a href=\"https://colab.research.google.com/github/Sweetmonee/JavaScript/blob/main/%EC%82%BC%ED%95%AD_%EC%97%B0%EC%82%B0%EC%9E%90.ipynb\" target=\"_parent\"><img src=\"https://colab.research.google.com/assets/colab-badge.svg\" alt=\"Open In Colab\"/></a>"
      ]
    },
    {
      "cell_type": "code",
      "execution_count": null,
      "metadata": {
        "id": "IESvtzNYZIWU"
      },
      "outputs": [],
      "source": [
        "01. 삼항 연산자\n",
        "첫번째로 배울 문법은, 삼항 연산자입니다. 이 문법은 ES6 문법은 아닙니다.\n",
        "\n",
        "const array = [];\n",
        "let text = '';\n",
        "if (array.length === 0) {\n",
        "  text = '배열이 비어있습니다.';\n",
        "} else {\n",
        "  text = '배열이 비어있지 않습니다.';\n",
        "}\n",
        "console.log(text);\n",
        "예를 들어 위와 같이 특정 조건에 따라 text 값이 달라야 하는 상황이 있다고 가정해봅시다.\n",
        "\n",
        "그런 경우에는 다음과 같이 코드를 작성 할 수 있습니다.\n",
        "\n",
        "const array = [];\n",
        "let text = array.length === 0 ? '배열이 비어있습니다' : '배열이 비어있지 않습니다.';\n",
        "\n",
        "console.log(text);\n",
        "삼항 연산자의 사용법은 다음과 같습니다.\n",
        "\n",
        "조건 ? true일때 : false일때\n",
        "라인의 길이가 너묵 길어진다면 다음과 같이 작성하기도 합니다.\n",
        "\n",
        "const array = [];\n",
        "let text = array.length === 0 \n",
        "  ? '배열이 비어있습니다' \n",
        "  : '배열이 비어있지 않습니다.';\n",
        "\n",
        "console.log(text);\n",
        "다음과 같이 삼항 연산자를 중첩해서 쓸 수도 있는데요\n",
        "\n",
        "const condition1 = false;\n",
        "const condition2 = false;\n",
        "\n",
        "const value = condition1 \n",
        "  ? '와우!' \n",
        "  : condition2 \n",
        "    ? 'blabla' \n",
        "    : 'foo';\n",
        "\n",
        "console.log(value);\n",
        "가독성이 그렇게 좋지 않으니 이러한 코드는 피하시는 것이 좋습니다. 이런 상황에는 차라리 if문으로 처리하는게 오히려 코드를 읽기가 쉬워질 수도 있습니다.\n",
        "\n"
      ]
    }
  ]
}
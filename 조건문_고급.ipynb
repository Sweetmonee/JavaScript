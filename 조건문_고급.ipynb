{
  "nbformat": 4,
  "nbformat_minor": 0,
  "metadata": {
    "colab": {
      "provenance": [],
      "authorship_tag": "ABX9TyPPNVWNv4kFkVXFNN6RLbcQ",
      "include_colab_link": true
    },
    "kernelspec": {
      "name": "python3",
      "display_name": "Python 3"
    },
    "language_info": {
      "name": "python"
    }
  },
  "cells": [
    {
      "cell_type": "markdown",
      "metadata": {
        "id": "view-in-github",
        "colab_type": "text"
      },
      "source": [
        "<a href=\"https://colab.research.google.com/github/Sweetmonee/JavaScript/blob/main/%EC%A1%B0%EA%B1%B4%EB%AC%B8_%EA%B3%A0%EA%B8%89.ipynb\" target=\"_parent\"><img src=\"https://colab.research.google.com/assets/colab-badge.svg\" alt=\"Open In Colab\"/></a>"
      ]
    },
    {
      "cell_type": "code",
      "execution_count": null,
      "metadata": {
        "id": "J1bSRfUPTVdZ"
      },
      "outputs": [],
      "source": [
        "function isAnimal(text) {\n",
        "  return (\n",
        "    text === '고양이' || text === '개' || text === '거북이' || text === '너구리'\n",
        "  );\n",
        "}\n",
        "\n",
        "console.log(isAnimal('개')); // true\n",
        "console.log(isAnimal('노트북')); // false"
      ]
    },
    {
      "cell_type": "code",
      "source": [
        "function isAnimal(name) {\n",
        "  const animals = ['고양이', '개', '거북이', '너구리'];\n",
        "  return animals.includes(name);\n",
        "}\n",
        "\n",
        "console.log(isAnimal('개')); // true\n",
        "console.log(isAnimal('노트북')); // false"
      ],
      "metadata": {
        "id": "csdQD1qMTWj9"
      },
      "execution_count": null,
      "outputs": []
    },
    {
      "cell_type": "code",
      "source": [
        "const isAnimal = name => ['고양이', '개', '거북이', '너구리'].includes(name);\n",
        "\n",
        "console.log(isAnimal('개')); // true\n",
        "console.log(isAnimal('노트북')); // false"
      ],
      "metadata": {
        "id": "82Y2Dsv3TWnS"
      },
      "execution_count": null,
      "outputs": []
    },
    {
      "cell_type": "code",
      "source": [
        "function getSound(animal) {\n",
        "  if (animal === '개') return '멍멍!';\n",
        "  if (animal === '고양이') return '야옹~';\n",
        "  if (animal === '참새') return '짹짹';\n",
        "  if (animal === '비둘기') return '구구 구 구';\n",
        "  return '...?';\n",
        "}\n",
        "\n",
        "console.log(getSound('개')); // 멍멍!\n",
        "console.log(getSound('비둘기')); // 구구 구 구"
      ],
      "metadata": {
        "id": "ikxfn1uSTgU8"
      },
      "execution_count": null,
      "outputs": []
    },
    {
      "cell_type": "code",
      "source": [
        "function getSound(animal) {\n",
        "  switch (animal) {\n",
        "    case '개':\n",
        "      return '멍멍!';\n",
        "    case '고양이':\n",
        "      return '야옹~';\n",
        "    case '참새':\n",
        "      return '짹짹';\n",
        "    case '비둘기':\n",
        "      return '구구 구 구';\n",
        "    default:\n",
        "      return '...?';\n",
        "  }\n",
        "}\n",
        "\n",
        "console.log(getSound('개')); // 멍멍!\n",
        "console.log(getSound('비둘기')); // 구구 구 구"
      ],
      "metadata": {
        "id": "Mq4Vy47VTgXw"
      },
      "execution_count": null,
      "outputs": []
    },
    {
      "cell_type": "code",
      "source": [
        "function getSound(animal) {\n",
        "  const sounds = {\n",
        "    개: '멍멍!',\n",
        "    고양이: '야옹~',\n",
        "    참새: '짹짹',\n",
        "    비둘기: '구구 구 구'\n",
        "  };\n",
        "  return sounds[animal] || '...?';\n",
        "}\n",
        "\n",
        "console.log(getSound('개')); // 멍멍!\n",
        "console.log(getSound('비둘기')); // 구구 구 구"
      ],
      "metadata": {
        "id": "aK-IvqaHTgbr"
      },
      "execution_count": null,
      "outputs": []
    },
    {
      "cell_type": "code",
      "source": [
        "function getSound(animal) {\n",
        "  const sounds = {\n",
        "    개: '멍멍!',\n",
        "    고양이: '야옹~',\n",
        "    참새: '짹짹',\n",
        "    비둘기: '구구 구 구'\n",
        "  };\n",
        "  return sounds[animal] || '...?';\n",
        "}\n",
        "\n",
        "console.log(getSound('개')); // 멍멍!\n",
        "console.log(getSound('비둘기')); // 구구 구 구\n",
        "훨씬 더 간략하고 가독성도 좋지요? 이렇게 특정 값에 따라 반환해야 하는 값이 다른 조건이 여러가지 있을 때는 객체를 활용하면 좋습니다.\n",
        "\n",
        "반면, 값에 따라 실행해야 하는 코드 구문이 다를 때는 어떻게 해야 할까요?\n",
        "\n",
        "그럴 떄는 객체에 함수를 넣으면 됩니다.\n",
        "\n",
        "function makeSound(animal) {\n",
        "  const tasks = {\n",
        "    개() {\n",
        "      console.log('멍멍');\n",
        "    },\n",
        "    고양이() {\n",
        "      console.log('고양이');\n",
        "    },\n",
        "    비둘기() {\n",
        "      console.log('구구 구 구');\n",
        "    }\n",
        "  };\n",
        "  if (!tasks[animal]) {\n",
        "    console.log('...?');\n",
        "    return;\n",
        "  }\n",
        "  tasks[animal]();\n",
        "}\n",
        "\n",
        "getSound('개');\n",
        "getSound('비둘기');"
      ],
      "metadata": {
        "id": "TrCJR2MPTgfF"
      },
      "execution_count": null,
      "outputs": []
    }
  ]
}